{
 "cells": [
  {
   "cell_type": "code",
   "execution_count": 1,
   "id": "9f789df9",
   "metadata": {},
   "outputs": [],
   "source": [
    "import numpy as np \n",
    "import pandas as pd \n",
    "\n",
    "import matplotlib.pyplot as plt\n",
    "import seaborn as sns\n",
    "\n",
    "import os\n"
   ]
  },
  {
   "cell_type": "code",
   "execution_count": 2,
   "id": "0ce99bcc",
   "metadata": {},
   "outputs": [],
   "source": [
    "urldata = pd.read_csv(r\"C:\\Users\\user\\Downloads\\urldata.csv\")"
   ]
  },
  {
   "cell_type": "code",
   "execution_count": 3,
   "id": "68e924c7",
   "metadata": {},
   "outputs": [
    {
     "data": {
      "text/html": [
       "<div>\n",
       "<style scoped>\n",
       "    .dataframe tbody tr th:only-of-type {\n",
       "        vertical-align: middle;\n",
       "    }\n",
       "\n",
       "    .dataframe tbody tr th {\n",
       "        vertical-align: top;\n",
       "    }\n",
       "\n",
       "    .dataframe thead th {\n",
       "        text-align: right;\n",
       "    }\n",
       "</style>\n",
       "<table border=\"1\" class=\"dataframe\">\n",
       "  <thead>\n",
       "    <tr style=\"text-align: right;\">\n",
       "      <th></th>\n",
       "      <th>Unnamed: 0</th>\n",
       "      <th>url</th>\n",
       "      <th>label</th>\n",
       "      <th>result</th>\n",
       "    </tr>\n",
       "  </thead>\n",
       "  <tbody>\n",
       "    <tr>\n",
       "      <th>0</th>\n",
       "      <td>0</td>\n",
       "      <td>https://www.google.com</td>\n",
       "      <td>benign</td>\n",
       "      <td>0</td>\n",
       "    </tr>\n",
       "    <tr>\n",
       "      <th>1</th>\n",
       "      <td>1</td>\n",
       "      <td>https://www.youtube.com</td>\n",
       "      <td>benign</td>\n",
       "      <td>0</td>\n",
       "    </tr>\n",
       "    <tr>\n",
       "      <th>2</th>\n",
       "      <td>2</td>\n",
       "      <td>https://www.facebook.com</td>\n",
       "      <td>benign</td>\n",
       "      <td>0</td>\n",
       "    </tr>\n",
       "    <tr>\n",
       "      <th>3</th>\n",
       "      <td>3</td>\n",
       "      <td>https://www.baidu.com</td>\n",
       "      <td>benign</td>\n",
       "      <td>0</td>\n",
       "    </tr>\n",
       "    <tr>\n",
       "      <th>4</th>\n",
       "      <td>4</td>\n",
       "      <td>https://www.wikipedia.org</td>\n",
       "      <td>benign</td>\n",
       "      <td>0</td>\n",
       "    </tr>\n",
       "  </tbody>\n",
       "</table>\n",
       "</div>"
      ],
      "text/plain": [
       "   Unnamed: 0                        url   label  result\n",
       "0           0     https://www.google.com  benign       0\n",
       "1           1    https://www.youtube.com  benign       0\n",
       "2           2   https://www.facebook.com  benign       0\n",
       "3           3      https://www.baidu.com  benign       0\n",
       "4           4  https://www.wikipedia.org  benign       0"
      ]
     },
     "execution_count": 3,
     "metadata": {},
     "output_type": "execute_result"
    }
   ],
   "source": [
    "urldata.head()"
   ]
  },
  {
   "cell_type": "code",
   "execution_count": 4,
   "id": "33e3497b",
   "metadata": {},
   "outputs": [
    {
     "data": {
      "text/plain": [
       "(450176, 4)"
      ]
     },
     "execution_count": 4,
     "metadata": {},
     "output_type": "execute_result"
    }
   ],
   "source": [
    "urldata.shape"
   ]
  },
  {
   "cell_type": "code",
   "execution_count": 5,
   "id": "d837ab5f",
   "metadata": {},
   "outputs": [
    {
     "name": "stdout",
     "output_type": "stream",
     "text": [
      "<class 'pandas.core.frame.DataFrame'>\n",
      "RangeIndex: 450176 entries, 0 to 450175\n",
      "Data columns (total 4 columns):\n",
      " #   Column      Non-Null Count   Dtype \n",
      "---  ------      --------------   ----- \n",
      " 0   Unnamed: 0  450176 non-null  int64 \n",
      " 1   url         450176 non-null  object\n",
      " 2   label       450176 non-null  object\n",
      " 3   result      450176 non-null  int64 \n",
      "dtypes: int64(2), object(2)\n",
      "memory usage: 13.7+ MB\n"
     ]
    }
   ],
   "source": [
    "urldata.info()"
   ]
  },
  {
   "cell_type": "code",
   "execution_count": 6,
   "id": "0d925f14",
   "metadata": {},
   "outputs": [
    {
     "data": {
      "text/plain": [
       "Unnamed: 0    0\n",
       "url           0\n",
       "label         0\n",
       "result        0\n",
       "dtype: int64"
      ]
     },
     "execution_count": 6,
     "metadata": {},
     "output_type": "execute_result"
    }
   ],
   "source": [
    "urldata.isnull().sum()"
   ]
  },
  {
   "cell_type": "code",
   "execution_count": 7,
   "id": "563e9542",
   "metadata": {},
   "outputs": [
    {
     "name": "stdout",
     "output_type": "stream",
     "text": [
      "Requirement already satisfied: tld in c:\\users\\user\\anaconda3\\lib\\site-packages (0.13)\n"
     ]
    }
   ],
   "source": [
    "!pip install tld"
   ]
  },
  {
   "cell_type": "code",
   "execution_count": 8,
   "id": "b2906ba3",
   "metadata": {},
   "outputs": [],
   "source": [
    "#Importing dependencies\n",
    "from urllib.parse import urlparse\n",
    "from tld import get_tld\n",
    "import os.path"
   ]
  },
  {
   "cell_type": "code",
   "execution_count": 9,
   "id": "f1dc20a3",
   "metadata": {},
   "outputs": [],
   "source": [
    "#Length of URL\n",
    "urldata['url_length'] = urldata['url'].apply(lambda i: len(str(i)))"
   ]
  },
  {
   "cell_type": "code",
   "execution_count": 10,
   "id": "0ed7da60",
   "metadata": {},
   "outputs": [],
   "source": [
    "#Hostname Length\n",
    "urldata['hostname_length'] = urldata['url'].apply(lambda i: len(urlparse(i).netloc))"
   ]
  },
  {
   "cell_type": "code",
   "execution_count": 11,
   "id": "d2e0c145",
   "metadata": {},
   "outputs": [],
   "source": [
    "#Path Length\n",
    "urldata['path_length'] = urldata['url'].apply(lambda i: len(urlparse(i).path))"
   ]
  },
  {
   "cell_type": "code",
   "execution_count": 12,
   "id": "ec619857",
   "metadata": {},
   "outputs": [],
   "source": [
    "#First Directory Length\n",
    "def fd_length(url):\n",
    "    urlpath= urlparse(url).path\n",
    "    try:\n",
    "        return len(urlpath.split('/')[1])\n",
    "    except:\n",
    "        return 0\n",
    "\n",
    "urldata['fd_length'] = urldata['url'].apply(lambda i: fd_length(i))"
   ]
  },
  {
   "cell_type": "code",
   "execution_count": 13,
   "id": "e69ff480",
   "metadata": {},
   "outputs": [],
   "source": [
    "#First Directory Length\n",
    "def fd_length(url):\n",
    "    urlpath= urlparse(url).path\n",
    "    try:\n",
    "        return len(urlpath.split('/')[1])\n",
    "    except:\n",
    "        return 0\n",
    "\n",
    "urldata['fd_length'] = urldata['url'].apply(lambda i: fd_length(i))"
   ]
  },
  {
   "cell_type": "code",
   "execution_count": 14,
   "id": "2f907513",
   "metadata": {},
   "outputs": [],
   "source": [
    "#Length of Top Level Domain\n",
    "urldata['tld'] = urldata['url'].apply(lambda i: get_tld(i,fail_silently=True))\n",
    "def tld_length(tld):\n",
    "    try:\n",
    "        return len(tld)\n",
    "    except:\n",
    "        return -1\n",
    "\n",
    "urldata['tld_length'] = urldata['tld'].apply(lambda i: tld_length(i))"
   ]
  },
  {
   "cell_type": "code",
   "execution_count": 15,
   "id": "edf8cdd4",
   "metadata": {},
   "outputs": [
    {
     "data": {
      "text/html": [
       "<div>\n",
       "<style scoped>\n",
       "    .dataframe tbody tr th:only-of-type {\n",
       "        vertical-align: middle;\n",
       "    }\n",
       "\n",
       "    .dataframe tbody tr th {\n",
       "        vertical-align: top;\n",
       "    }\n",
       "\n",
       "    .dataframe thead th {\n",
       "        text-align: right;\n",
       "    }\n",
       "</style>\n",
       "<table border=\"1\" class=\"dataframe\">\n",
       "  <thead>\n",
       "    <tr style=\"text-align: right;\">\n",
       "      <th></th>\n",
       "      <th>Unnamed: 0</th>\n",
       "      <th>url</th>\n",
       "      <th>label</th>\n",
       "      <th>result</th>\n",
       "      <th>url_length</th>\n",
       "      <th>hostname_length</th>\n",
       "      <th>path_length</th>\n",
       "      <th>fd_length</th>\n",
       "      <th>tld</th>\n",
       "      <th>tld_length</th>\n",
       "    </tr>\n",
       "  </thead>\n",
       "  <tbody>\n",
       "    <tr>\n",
       "      <th>0</th>\n",
       "      <td>0</td>\n",
       "      <td>https://www.google.com</td>\n",
       "      <td>benign</td>\n",
       "      <td>0</td>\n",
       "      <td>22</td>\n",
       "      <td>14</td>\n",
       "      <td>0</td>\n",
       "      <td>0</td>\n",
       "      <td>com</td>\n",
       "      <td>3</td>\n",
       "    </tr>\n",
       "    <tr>\n",
       "      <th>1</th>\n",
       "      <td>1</td>\n",
       "      <td>https://www.youtube.com</td>\n",
       "      <td>benign</td>\n",
       "      <td>0</td>\n",
       "      <td>23</td>\n",
       "      <td>15</td>\n",
       "      <td>0</td>\n",
       "      <td>0</td>\n",
       "      <td>com</td>\n",
       "      <td>3</td>\n",
       "    </tr>\n",
       "    <tr>\n",
       "      <th>2</th>\n",
       "      <td>2</td>\n",
       "      <td>https://www.facebook.com</td>\n",
       "      <td>benign</td>\n",
       "      <td>0</td>\n",
       "      <td>24</td>\n",
       "      <td>16</td>\n",
       "      <td>0</td>\n",
       "      <td>0</td>\n",
       "      <td>com</td>\n",
       "      <td>3</td>\n",
       "    </tr>\n",
       "    <tr>\n",
       "      <th>3</th>\n",
       "      <td>3</td>\n",
       "      <td>https://www.baidu.com</td>\n",
       "      <td>benign</td>\n",
       "      <td>0</td>\n",
       "      <td>21</td>\n",
       "      <td>13</td>\n",
       "      <td>0</td>\n",
       "      <td>0</td>\n",
       "      <td>com</td>\n",
       "      <td>3</td>\n",
       "    </tr>\n",
       "    <tr>\n",
       "      <th>4</th>\n",
       "      <td>4</td>\n",
       "      <td>https://www.wikipedia.org</td>\n",
       "      <td>benign</td>\n",
       "      <td>0</td>\n",
       "      <td>25</td>\n",
       "      <td>17</td>\n",
       "      <td>0</td>\n",
       "      <td>0</td>\n",
       "      <td>org</td>\n",
       "      <td>3</td>\n",
       "    </tr>\n",
       "  </tbody>\n",
       "</table>\n",
       "</div>"
      ],
      "text/plain": [
       "   Unnamed: 0                        url   label  result  url_length  \\\n",
       "0           0     https://www.google.com  benign       0          22   \n",
       "1           1    https://www.youtube.com  benign       0          23   \n",
       "2           2   https://www.facebook.com  benign       0          24   \n",
       "3           3      https://www.baidu.com  benign       0          21   \n",
       "4           4  https://www.wikipedia.org  benign       0          25   \n",
       "\n",
       "   hostname_length  path_length  fd_length  tld  tld_length  \n",
       "0               14            0          0  com           3  \n",
       "1               15            0          0  com           3  \n",
       "2               16            0          0  com           3  \n",
       "3               13            0          0  com           3  \n",
       "4               17            0          0  org           3  "
      ]
     },
     "execution_count": 15,
     "metadata": {},
     "output_type": "execute_result"
    }
   ],
   "source": [
    "urldata.head()"
   ]
  },
  {
   "cell_type": "code",
   "execution_count": 16,
   "id": "7801bc67",
   "metadata": {},
   "outputs": [
    {
     "name": "stderr",
     "output_type": "stream",
     "text": [
      "C:\\Users\\user\\AppData\\Local\\Temp\\ipykernel_19592\\932459447.py:1: FutureWarning: In a future version of pandas all arguments of DataFrame.drop except for the argument 'labels' will be keyword-only.\n",
      "  urldata = urldata.drop(\"tld\",1)\n"
     ]
    }
   ],
   "source": [
    "urldata = urldata.drop(\"tld\",1)"
   ]
  },
  {
   "cell_type": "code",
   "execution_count": 17,
   "id": "a5075a8e",
   "metadata": {},
   "outputs": [
    {
     "data": {
      "text/html": [
       "<div>\n",
       "<style scoped>\n",
       "    .dataframe tbody tr th:only-of-type {\n",
       "        vertical-align: middle;\n",
       "    }\n",
       "\n",
       "    .dataframe tbody tr th {\n",
       "        vertical-align: top;\n",
       "    }\n",
       "\n",
       "    .dataframe thead th {\n",
       "        text-align: right;\n",
       "    }\n",
       "</style>\n",
       "<table border=\"1\" class=\"dataframe\">\n",
       "  <thead>\n",
       "    <tr style=\"text-align: right;\">\n",
       "      <th></th>\n",
       "      <th>Unnamed: 0</th>\n",
       "      <th>url</th>\n",
       "      <th>label</th>\n",
       "      <th>result</th>\n",
       "      <th>url_length</th>\n",
       "      <th>hostname_length</th>\n",
       "      <th>path_length</th>\n",
       "      <th>fd_length</th>\n",
       "      <th>tld_length</th>\n",
       "    </tr>\n",
       "  </thead>\n",
       "  <tbody>\n",
       "    <tr>\n",
       "      <th>0</th>\n",
       "      <td>0</td>\n",
       "      <td>https://www.google.com</td>\n",
       "      <td>benign</td>\n",
       "      <td>0</td>\n",
       "      <td>22</td>\n",
       "      <td>14</td>\n",
       "      <td>0</td>\n",
       "      <td>0</td>\n",
       "      <td>3</td>\n",
       "    </tr>\n",
       "    <tr>\n",
       "      <th>1</th>\n",
       "      <td>1</td>\n",
       "      <td>https://www.youtube.com</td>\n",
       "      <td>benign</td>\n",
       "      <td>0</td>\n",
       "      <td>23</td>\n",
       "      <td>15</td>\n",
       "      <td>0</td>\n",
       "      <td>0</td>\n",
       "      <td>3</td>\n",
       "    </tr>\n",
       "    <tr>\n",
       "      <th>2</th>\n",
       "      <td>2</td>\n",
       "      <td>https://www.facebook.com</td>\n",
       "      <td>benign</td>\n",
       "      <td>0</td>\n",
       "      <td>24</td>\n",
       "      <td>16</td>\n",
       "      <td>0</td>\n",
       "      <td>0</td>\n",
       "      <td>3</td>\n",
       "    </tr>\n",
       "    <tr>\n",
       "      <th>3</th>\n",
       "      <td>3</td>\n",
       "      <td>https://www.baidu.com</td>\n",
       "      <td>benign</td>\n",
       "      <td>0</td>\n",
       "      <td>21</td>\n",
       "      <td>13</td>\n",
       "      <td>0</td>\n",
       "      <td>0</td>\n",
       "      <td>3</td>\n",
       "    </tr>\n",
       "    <tr>\n",
       "      <th>4</th>\n",
       "      <td>4</td>\n",
       "      <td>https://www.wikipedia.org</td>\n",
       "      <td>benign</td>\n",
       "      <td>0</td>\n",
       "      <td>25</td>\n",
       "      <td>17</td>\n",
       "      <td>0</td>\n",
       "      <td>0</td>\n",
       "      <td>3</td>\n",
       "    </tr>\n",
       "  </tbody>\n",
       "</table>\n",
       "</div>"
      ],
      "text/plain": [
       "   Unnamed: 0                        url   label  result  url_length  \\\n",
       "0           0     https://www.google.com  benign       0          22   \n",
       "1           1    https://www.youtube.com  benign       0          23   \n",
       "2           2   https://www.facebook.com  benign       0          24   \n",
       "3           3      https://www.baidu.com  benign       0          21   \n",
       "4           4  https://www.wikipedia.org  benign       0          25   \n",
       "\n",
       "   hostname_length  path_length  fd_length  tld_length  \n",
       "0               14            0          0           3  \n",
       "1               15            0          0           3  \n",
       "2               16            0          0           3  \n",
       "3               13            0          0           3  \n",
       "4               17            0          0           3  "
      ]
     },
     "execution_count": 17,
     "metadata": {},
     "output_type": "execute_result"
    }
   ],
   "source": [
    "urldata.head()"
   ]
  },
  {
   "cell_type": "code",
   "execution_count": 18,
   "id": "ff7b6feb",
   "metadata": {},
   "outputs": [],
   "source": [
    "urldata['count-'] = urldata['url'].apply(lambda i: i.count('-'))"
   ]
  },
  {
   "cell_type": "code",
   "execution_count": 19,
   "id": "85002ffa",
   "metadata": {},
   "outputs": [],
   "source": [
    "urldata['count@'] = urldata['url'].apply(lambda i: i.count('@'))"
   ]
  },
  {
   "cell_type": "code",
   "execution_count": 20,
   "id": "4c7078b4",
   "metadata": {},
   "outputs": [],
   "source": [
    "urldata['count?'] = urldata['url'].apply(lambda i: i.count('?'))"
   ]
  },
  {
   "cell_type": "code",
   "execution_count": 21,
   "id": "8e3e07dc",
   "metadata": {},
   "outputs": [],
   "source": [
    "urldata['count%'] = urldata['url'].apply(lambda i: i.count('%'))"
   ]
  },
  {
   "cell_type": "code",
   "execution_count": 22,
   "id": "e514d638",
   "metadata": {},
   "outputs": [],
   "source": [
    "urldata['count.'] = urldata['url'].apply(lambda i: i.count('.'))"
   ]
  },
  {
   "cell_type": "code",
   "execution_count": 23,
   "id": "040d316b",
   "metadata": {},
   "outputs": [],
   "source": [
    "urldata['count='] = urldata['url'].apply(lambda i: i.count('='))"
   ]
  },
  {
   "cell_type": "code",
   "execution_count": 24,
   "id": "0803a5b5",
   "metadata": {},
   "outputs": [],
   "source": [
    "urldata['count-http'] = urldata['url'].apply(lambda i : i.count('http'))"
   ]
  },
  {
   "cell_type": "code",
   "execution_count": 25,
   "id": "e1283494",
   "metadata": {},
   "outputs": [],
   "source": [
    "urldata['count-https'] = urldata['url'].apply(lambda i : i.count('https'))"
   ]
  },
  {
   "cell_type": "code",
   "execution_count": 26,
   "id": "aec2a6d0",
   "metadata": {},
   "outputs": [],
   "source": [
    "urldata['count-www'] = urldata['url'].apply(lambda i: i.count('www'))"
   ]
  },
  {
   "cell_type": "code",
   "execution_count": 27,
   "id": "83a89161",
   "metadata": {},
   "outputs": [],
   "source": [
    "def digit_count(url):\n",
    "    digits = 0\n",
    "    for i in url:\n",
    "        if i.isnumeric():\n",
    "            digits = digits + 1\n",
    "    return digits\n",
    "urldata['count-digits']= urldata['url'].apply(lambda i: digit_count(i))"
   ]
  },
  {
   "cell_type": "code",
   "execution_count": 28,
   "id": "0d2b2705",
   "metadata": {},
   "outputs": [],
   "source": [
    "def letter_count(url):\n",
    "    letters = 0\n",
    "    for i in url:\n",
    "        if i.isalpha():\n",
    "            letters = letters + 1\n",
    "    return letters\n",
    "urldata['count-letters']= urldata['url'].apply(lambda i: letter_count(i))"
   ]
  },
  {
   "cell_type": "code",
   "execution_count": 29,
   "id": "4df4f600",
   "metadata": {},
   "outputs": [],
   "source": [
    "def no_of_dir(url):\n",
    "    urldir = urlparse(url).path\n",
    "    return urldir.count('/')\n",
    "urldata['count_dir'] = urldata['url'].apply(lambda i: no_of_dir(i))"
   ]
  },
  {
   "cell_type": "code",
   "execution_count": 30,
   "id": "3eba4e16",
   "metadata": {},
   "outputs": [
    {
     "data": {
      "text/html": [
       "<div>\n",
       "<style scoped>\n",
       "    .dataframe tbody tr th:only-of-type {\n",
       "        vertical-align: middle;\n",
       "    }\n",
       "\n",
       "    .dataframe tbody tr th {\n",
       "        vertical-align: top;\n",
       "    }\n",
       "\n",
       "    .dataframe thead th {\n",
       "        text-align: right;\n",
       "    }\n",
       "</style>\n",
       "<table border=\"1\" class=\"dataframe\">\n",
       "  <thead>\n",
       "    <tr style=\"text-align: right;\">\n",
       "      <th></th>\n",
       "      <th>Unnamed: 0</th>\n",
       "      <th>url</th>\n",
       "      <th>label</th>\n",
       "      <th>result</th>\n",
       "      <th>url_length</th>\n",
       "      <th>hostname_length</th>\n",
       "      <th>path_length</th>\n",
       "      <th>fd_length</th>\n",
       "      <th>tld_length</th>\n",
       "      <th>count-</th>\n",
       "      <th>...</th>\n",
       "      <th>count?</th>\n",
       "      <th>count%</th>\n",
       "      <th>count.</th>\n",
       "      <th>count=</th>\n",
       "      <th>count-http</th>\n",
       "      <th>count-https</th>\n",
       "      <th>count-www</th>\n",
       "      <th>count-digits</th>\n",
       "      <th>count-letters</th>\n",
       "      <th>count_dir</th>\n",
       "    </tr>\n",
       "  </thead>\n",
       "  <tbody>\n",
       "    <tr>\n",
       "      <th>0</th>\n",
       "      <td>0</td>\n",
       "      <td>https://www.google.com</td>\n",
       "      <td>benign</td>\n",
       "      <td>0</td>\n",
       "      <td>22</td>\n",
       "      <td>14</td>\n",
       "      <td>0</td>\n",
       "      <td>0</td>\n",
       "      <td>3</td>\n",
       "      <td>0</td>\n",
       "      <td>...</td>\n",
       "      <td>0</td>\n",
       "      <td>0</td>\n",
       "      <td>2</td>\n",
       "      <td>0</td>\n",
       "      <td>1</td>\n",
       "      <td>1</td>\n",
       "      <td>1</td>\n",
       "      <td>0</td>\n",
       "      <td>17</td>\n",
       "      <td>0</td>\n",
       "    </tr>\n",
       "    <tr>\n",
       "      <th>1</th>\n",
       "      <td>1</td>\n",
       "      <td>https://www.youtube.com</td>\n",
       "      <td>benign</td>\n",
       "      <td>0</td>\n",
       "      <td>23</td>\n",
       "      <td>15</td>\n",
       "      <td>0</td>\n",
       "      <td>0</td>\n",
       "      <td>3</td>\n",
       "      <td>0</td>\n",
       "      <td>...</td>\n",
       "      <td>0</td>\n",
       "      <td>0</td>\n",
       "      <td>2</td>\n",
       "      <td>0</td>\n",
       "      <td>1</td>\n",
       "      <td>1</td>\n",
       "      <td>1</td>\n",
       "      <td>0</td>\n",
       "      <td>18</td>\n",
       "      <td>0</td>\n",
       "    </tr>\n",
       "    <tr>\n",
       "      <th>2</th>\n",
       "      <td>2</td>\n",
       "      <td>https://www.facebook.com</td>\n",
       "      <td>benign</td>\n",
       "      <td>0</td>\n",
       "      <td>24</td>\n",
       "      <td>16</td>\n",
       "      <td>0</td>\n",
       "      <td>0</td>\n",
       "      <td>3</td>\n",
       "      <td>0</td>\n",
       "      <td>...</td>\n",
       "      <td>0</td>\n",
       "      <td>0</td>\n",
       "      <td>2</td>\n",
       "      <td>0</td>\n",
       "      <td>1</td>\n",
       "      <td>1</td>\n",
       "      <td>1</td>\n",
       "      <td>0</td>\n",
       "      <td>19</td>\n",
       "      <td>0</td>\n",
       "    </tr>\n",
       "    <tr>\n",
       "      <th>3</th>\n",
       "      <td>3</td>\n",
       "      <td>https://www.baidu.com</td>\n",
       "      <td>benign</td>\n",
       "      <td>0</td>\n",
       "      <td>21</td>\n",
       "      <td>13</td>\n",
       "      <td>0</td>\n",
       "      <td>0</td>\n",
       "      <td>3</td>\n",
       "      <td>0</td>\n",
       "      <td>...</td>\n",
       "      <td>0</td>\n",
       "      <td>0</td>\n",
       "      <td>2</td>\n",
       "      <td>0</td>\n",
       "      <td>1</td>\n",
       "      <td>1</td>\n",
       "      <td>1</td>\n",
       "      <td>0</td>\n",
       "      <td>16</td>\n",
       "      <td>0</td>\n",
       "    </tr>\n",
       "    <tr>\n",
       "      <th>4</th>\n",
       "      <td>4</td>\n",
       "      <td>https://www.wikipedia.org</td>\n",
       "      <td>benign</td>\n",
       "      <td>0</td>\n",
       "      <td>25</td>\n",
       "      <td>17</td>\n",
       "      <td>0</td>\n",
       "      <td>0</td>\n",
       "      <td>3</td>\n",
       "      <td>0</td>\n",
       "      <td>...</td>\n",
       "      <td>0</td>\n",
       "      <td>0</td>\n",
       "      <td>2</td>\n",
       "      <td>0</td>\n",
       "      <td>1</td>\n",
       "      <td>1</td>\n",
       "      <td>1</td>\n",
       "      <td>0</td>\n",
       "      <td>20</td>\n",
       "      <td>0</td>\n",
       "    </tr>\n",
       "  </tbody>\n",
       "</table>\n",
       "<p>5 rows × 21 columns</p>\n",
       "</div>"
      ],
      "text/plain": [
       "   Unnamed: 0                        url   label  result  url_length  \\\n",
       "0           0     https://www.google.com  benign       0          22   \n",
       "1           1    https://www.youtube.com  benign       0          23   \n",
       "2           2   https://www.facebook.com  benign       0          24   \n",
       "3           3      https://www.baidu.com  benign       0          21   \n",
       "4           4  https://www.wikipedia.org  benign       0          25   \n",
       "\n",
       "   hostname_length  path_length  fd_length  tld_length  count-  ...  count?  \\\n",
       "0               14            0          0           3       0  ...       0   \n",
       "1               15            0          0           3       0  ...       0   \n",
       "2               16            0          0           3       0  ...       0   \n",
       "3               13            0          0           3       0  ...       0   \n",
       "4               17            0          0           3       0  ...       0   \n",
       "\n",
       "   count%  count.  count=  count-http  count-https  count-www  count-digits  \\\n",
       "0       0       2       0           1            1          1             0   \n",
       "1       0       2       0           1            1          1             0   \n",
       "2       0       2       0           1            1          1             0   \n",
       "3       0       2       0           1            1          1             0   \n",
       "4       0       2       0           1            1          1             0   \n",
       "\n",
       "   count-letters  count_dir  \n",
       "0             17          0  \n",
       "1             18          0  \n",
       "2             19          0  \n",
       "3             16          0  \n",
       "4             20          0  \n",
       "\n",
       "[5 rows x 21 columns]"
      ]
     },
     "execution_count": 30,
     "metadata": {},
     "output_type": "execute_result"
    }
   ],
   "source": [
    "urldata.head()"
   ]
  },
  {
   "cell_type": "code",
   "execution_count": 31,
   "id": "d43cc99e",
   "metadata": {},
   "outputs": [],
   "source": [
    "import re"
   ]
  },
  {
   "cell_type": "code",
   "execution_count": 32,
   "id": "2ff86d20",
   "metadata": {},
   "outputs": [],
   "source": [
    "def having_ip_address(url):\n",
    "    match = re.search(\n",
    "        '(([01]?\\\\d\\\\d?|2[0-4]\\\\d|25[0-5])\\\\.([01]?\\\\d\\\\d?|2[0-4]\\\\d|25[0-5])\\\\.([01]?\\\\d\\\\d?|2[0-4]\\\\d|25[0-5])\\\\.'\n",
    "        '([01]?\\\\d\\\\d?|2[0-4]\\\\d|25[0-5])\\\\/)|'  # IPv4\n",
    "        '((0x[0-9a-fA-F]{1,2})\\\\.(0x[0-9a-fA-F]{1,2})\\\\.(0x[0-9a-fA-F]{1,2})\\\\.(0x[0-9a-fA-F]{1,2})\\\\/)' # IPv4 in hexadecimal\n",
    "        '(?:[a-fA-F0-9]{1,4}:){7}[a-fA-F0-9]{1,4}', url)  # Ipv6\n",
    "    if match:\n",
    "        # print match.group()\n",
    "        return -1\n",
    "    else:\n",
    "        # print 'No matching pattern found'\n",
    "        return 1\n",
    "urldata['use_of_ip'] = urldata['url'].apply(lambda i: having_ip_address(i))"
   ]
  },
  {
   "cell_type": "code",
   "execution_count": 33,
   "id": "f45dd6cb",
   "metadata": {},
   "outputs": [],
   "source": [
    "def shortening_service(url):\n",
    "    match = re.search('bit\\.ly|goo\\.gl|shorte\\.st|go2l\\.ink|x\\.co|ow\\.ly|t\\.co|tinyurl|tr\\.im|is\\.gd|cli\\.gs|'\n",
    "                      'yfrog\\.com|migre\\.me|ff\\.im|tiny\\.cc|url4\\.eu|twit\\.ac|su\\.pr|twurl\\.nl|snipurl\\.com|'\n",
    "                      'short\\.to|BudURL\\.com|ping\\.fm|post\\.ly|Just\\.as|bkite\\.com|snipr\\.com|fic\\.kr|loopt\\.us|'\n",
    "                      'doiop\\.com|short\\.ie|kl\\.am|wp\\.me|rubyurl\\.com|om\\.ly|to\\.ly|bit\\.do|t\\.co|lnkd\\.in|'\n",
    "                      'db\\.tt|qr\\.ae|adf\\.ly|goo\\.gl|bitly\\.com|cur\\.lv|tinyurl\\.com|ow\\.ly|bit\\.ly|ity\\.im|'\n",
    "                      'q\\.gs|is\\.gd|po\\.st|bc\\.vc|twitthis\\.com|u\\.to|j\\.mp|buzurl\\.com|cutt\\.us|u\\.bb|yourls\\.org|'\n",
    "                      'x\\.co|prettylinkpro\\.com|scrnch\\.me|filoops\\.info|vzturl\\.com|qr\\.net|1url\\.com|tweez\\.me|v\\.gd|'\n",
    "                      'tr\\.im|link\\.zip\\.net',\n",
    "                      url)\n",
    "    if match:\n",
    "        return -1\n",
    "    else:\n",
    "        return 1\n",
    "urldata['short_url'] = urldata['url'].apply(lambda i: shortening_service(i))"
   ]
  },
  {
   "cell_type": "code",
   "execution_count": 34,
   "id": "a4856cdc",
   "metadata": {},
   "outputs": [
    {
     "data": {
      "text/html": [
       "<div>\n",
       "<style scoped>\n",
       "    .dataframe tbody tr th:only-of-type {\n",
       "        vertical-align: middle;\n",
       "    }\n",
       "\n",
       "    .dataframe tbody tr th {\n",
       "        vertical-align: top;\n",
       "    }\n",
       "\n",
       "    .dataframe thead th {\n",
       "        text-align: right;\n",
       "    }\n",
       "</style>\n",
       "<table border=\"1\" class=\"dataframe\">\n",
       "  <thead>\n",
       "    <tr style=\"text-align: right;\">\n",
       "      <th></th>\n",
       "      <th>Unnamed: 0</th>\n",
       "      <th>url</th>\n",
       "      <th>label</th>\n",
       "      <th>result</th>\n",
       "      <th>url_length</th>\n",
       "      <th>hostname_length</th>\n",
       "      <th>path_length</th>\n",
       "      <th>fd_length</th>\n",
       "      <th>tld_length</th>\n",
       "      <th>count-</th>\n",
       "      <th>...</th>\n",
       "      <th>count.</th>\n",
       "      <th>count=</th>\n",
       "      <th>count-http</th>\n",
       "      <th>count-https</th>\n",
       "      <th>count-www</th>\n",
       "      <th>count-digits</th>\n",
       "      <th>count-letters</th>\n",
       "      <th>count_dir</th>\n",
       "      <th>use_of_ip</th>\n",
       "      <th>short_url</th>\n",
       "    </tr>\n",
       "  </thead>\n",
       "  <tbody>\n",
       "    <tr>\n",
       "      <th>0</th>\n",
       "      <td>0</td>\n",
       "      <td>https://www.google.com</td>\n",
       "      <td>benign</td>\n",
       "      <td>0</td>\n",
       "      <td>22</td>\n",
       "      <td>14</td>\n",
       "      <td>0</td>\n",
       "      <td>0</td>\n",
       "      <td>3</td>\n",
       "      <td>0</td>\n",
       "      <td>...</td>\n",
       "      <td>2</td>\n",
       "      <td>0</td>\n",
       "      <td>1</td>\n",
       "      <td>1</td>\n",
       "      <td>1</td>\n",
       "      <td>0</td>\n",
       "      <td>17</td>\n",
       "      <td>0</td>\n",
       "      <td>1</td>\n",
       "      <td>1</td>\n",
       "    </tr>\n",
       "    <tr>\n",
       "      <th>1</th>\n",
       "      <td>1</td>\n",
       "      <td>https://www.youtube.com</td>\n",
       "      <td>benign</td>\n",
       "      <td>0</td>\n",
       "      <td>23</td>\n",
       "      <td>15</td>\n",
       "      <td>0</td>\n",
       "      <td>0</td>\n",
       "      <td>3</td>\n",
       "      <td>0</td>\n",
       "      <td>...</td>\n",
       "      <td>2</td>\n",
       "      <td>0</td>\n",
       "      <td>1</td>\n",
       "      <td>1</td>\n",
       "      <td>1</td>\n",
       "      <td>0</td>\n",
       "      <td>18</td>\n",
       "      <td>0</td>\n",
       "      <td>1</td>\n",
       "      <td>1</td>\n",
       "    </tr>\n",
       "    <tr>\n",
       "      <th>2</th>\n",
       "      <td>2</td>\n",
       "      <td>https://www.facebook.com</td>\n",
       "      <td>benign</td>\n",
       "      <td>0</td>\n",
       "      <td>24</td>\n",
       "      <td>16</td>\n",
       "      <td>0</td>\n",
       "      <td>0</td>\n",
       "      <td>3</td>\n",
       "      <td>0</td>\n",
       "      <td>...</td>\n",
       "      <td>2</td>\n",
       "      <td>0</td>\n",
       "      <td>1</td>\n",
       "      <td>1</td>\n",
       "      <td>1</td>\n",
       "      <td>0</td>\n",
       "      <td>19</td>\n",
       "      <td>0</td>\n",
       "      <td>1</td>\n",
       "      <td>1</td>\n",
       "    </tr>\n",
       "    <tr>\n",
       "      <th>3</th>\n",
       "      <td>3</td>\n",
       "      <td>https://www.baidu.com</td>\n",
       "      <td>benign</td>\n",
       "      <td>0</td>\n",
       "      <td>21</td>\n",
       "      <td>13</td>\n",
       "      <td>0</td>\n",
       "      <td>0</td>\n",
       "      <td>3</td>\n",
       "      <td>0</td>\n",
       "      <td>...</td>\n",
       "      <td>2</td>\n",
       "      <td>0</td>\n",
       "      <td>1</td>\n",
       "      <td>1</td>\n",
       "      <td>1</td>\n",
       "      <td>0</td>\n",
       "      <td>16</td>\n",
       "      <td>0</td>\n",
       "      <td>1</td>\n",
       "      <td>1</td>\n",
       "    </tr>\n",
       "    <tr>\n",
       "      <th>4</th>\n",
       "      <td>4</td>\n",
       "      <td>https://www.wikipedia.org</td>\n",
       "      <td>benign</td>\n",
       "      <td>0</td>\n",
       "      <td>25</td>\n",
       "      <td>17</td>\n",
       "      <td>0</td>\n",
       "      <td>0</td>\n",
       "      <td>3</td>\n",
       "      <td>0</td>\n",
       "      <td>...</td>\n",
       "      <td>2</td>\n",
       "      <td>0</td>\n",
       "      <td>1</td>\n",
       "      <td>1</td>\n",
       "      <td>1</td>\n",
       "      <td>0</td>\n",
       "      <td>20</td>\n",
       "      <td>0</td>\n",
       "      <td>1</td>\n",
       "      <td>1</td>\n",
       "    </tr>\n",
       "  </tbody>\n",
       "</table>\n",
       "<p>5 rows × 23 columns</p>\n",
       "</div>"
      ],
      "text/plain": [
       "   Unnamed: 0                        url   label  result  url_length  \\\n",
       "0           0     https://www.google.com  benign       0          22   \n",
       "1           1    https://www.youtube.com  benign       0          23   \n",
       "2           2   https://www.facebook.com  benign       0          24   \n",
       "3           3      https://www.baidu.com  benign       0          21   \n",
       "4           4  https://www.wikipedia.org  benign       0          25   \n",
       "\n",
       "   hostname_length  path_length  fd_length  tld_length  count-  ...  count.  \\\n",
       "0               14            0          0           3       0  ...       2   \n",
       "1               15            0          0           3       0  ...       2   \n",
       "2               16            0          0           3       0  ...       2   \n",
       "3               13            0          0           3       0  ...       2   \n",
       "4               17            0          0           3       0  ...       2   \n",
       "\n",
       "   count=  count-http  count-https  count-www  count-digits  count-letters  \\\n",
       "0       0           1            1          1             0             17   \n",
       "1       0           1            1          1             0             18   \n",
       "2       0           1            1          1             0             19   \n",
       "3       0           1            1          1             0             16   \n",
       "4       0           1            1          1             0             20   \n",
       "\n",
       "   count_dir  use_of_ip  short_url  \n",
       "0          0          1          1  \n",
       "1          0          1          1  \n",
       "2          0          1          1  \n",
       "3          0          1          1  \n",
       "4          0          1          1  \n",
       "\n",
       "[5 rows x 23 columns]"
      ]
     },
     "execution_count": 34,
     "metadata": {},
     "output_type": "execute_result"
    }
   ],
   "source": [
    "urldata.head()"
   ]
  },
  {
   "cell_type": "code",
   "execution_count": 35,
   "id": "e4a60923",
   "metadata": {},
   "outputs": [],
   "source": [
    "from sklearn.ensemble import RandomForestClassifier\n",
    "from sklearn.model_selection import train_test_split\n",
    "\n",
    "from sklearn.metrics import confusion_matrix,classification_report,accuracy_score\n",
    "\n",
    "from sklearn.tree import DecisionTreeClassifier\n",
    "\n",
    "from sklearn.linear_model import LogisticRegression"
   ]
  },
  {
   "cell_type": "code",
   "execution_count": 36,
   "id": "da1f7807",
   "metadata": {},
   "outputs": [],
   "source": [
    "x = urldata[['hostname_length',\n",
    "       'path_length', 'fd_length', 'tld_length', 'count-', 'count@', 'count?',\n",
    "       'count%', 'count.', 'count=', 'count-http','count-https', 'count-www', 'count-digits',\n",
    "       'count-letters', 'count_dir', 'use_of_ip']]\n",
    "\n",
    "#Target Variable\n",
    "y = urldata['result']"
   ]
  },
  {
   "cell_type": "code",
   "execution_count": 37,
   "id": "9628a32c",
   "metadata": {},
   "outputs": [],
   "source": [
    "x_train, x_test, y_train, y_test = train_test_split(x, y, train_size=0.3, random_state=42)"
   ]
  },
  {
   "cell_type": "code",
   "execution_count": 38,
   "id": "5de7f5e5",
   "metadata": {},
   "outputs": [
    {
     "data": {
      "text/plain": [
       "0.9954367169749051"
      ]
     },
     "execution_count": 38,
     "metadata": {},
     "output_type": "execute_result"
    }
   ],
   "source": [
    "dt_model = DecisionTreeClassifier()\n",
    "dt_model.fit(x_train,y_train)\n",
    "\n",
    "dt_predictions = dt_model.predict(x_test)\n",
    "accuracy_score(y_test,dt_predictions)"
   ]
  },
  {
   "cell_type": "code",
   "execution_count": 39,
   "id": "47da3aca",
   "metadata": {},
   "outputs": [
    {
     "name": "stdout",
     "output_type": "stream",
     "text": [
      "[[241230    722]\n",
      " [   716  72456]]\n"
     ]
    }
   ],
   "source": [
    "print(confusion_matrix(y_test,dt_predictions))"
   ]
  },
  {
   "cell_type": "code",
   "execution_count": 40,
   "id": "6b5cb082",
   "metadata": {},
   "outputs": [
    {
     "data": {
      "text/plain": [
       "0.9972836089920158"
      ]
     },
     "execution_count": 40,
     "metadata": {},
     "output_type": "execute_result"
    }
   ],
   "source": [
    "rfc = RandomForestClassifier()\n",
    "rfc.fit(x_train, y_train)\n",
    "\n",
    "rfc_predictions = rfc.predict(x_test)\n",
    "accuracy_score(y_test, rfc_predictions)"
   ]
  },
  {
   "cell_type": "code",
   "execution_count": 41,
   "id": "fd95e124",
   "metadata": {},
   "outputs": [
    {
     "name": "stdout",
     "output_type": "stream",
     "text": [
      "[[241672    280]\n",
      " [   576  72596]]\n"
     ]
    }
   ],
   "source": [
    "print(confusion_matrix(y_test,rfc_predictions))"
   ]
  }
 ],
 "metadata": {
  "kernelspec": {
   "display_name": "Python 3 (ipykernel)",
   "language": "python",
   "name": "python3"
  },
  "language_info": {
   "codemirror_mode": {
    "name": "ipython",
    "version": 3
   },
   "file_extension": ".py",
   "mimetype": "text/x-python",
   "name": "python",
   "nbconvert_exporter": "python",
   "pygments_lexer": "ipython3",
   "version": "3.9.12"
  }
 },
 "nbformat": 4,
 "nbformat_minor": 5
}
